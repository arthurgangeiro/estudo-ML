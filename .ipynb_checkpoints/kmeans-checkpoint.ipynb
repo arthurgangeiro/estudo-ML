{
 "cells": [
  {
   "cell_type": "markdown",
   "metadata": {},
   "source": [
    "# KMeans"
   ]
  },
  {
   "cell_type": "code",
   "execution_count": null,
   "metadata": {},
   "outputs": [],
   "source": [
    "#http://minerandodados.com.br/index.php/2018/02/02/algoritmo-k-means-python-passo-passo/\n",
    "#http://scikit-learn.org/stable/modules/generated/sklearn.cluster.KMeans.html\n",
    "#silhueta:\n",
    "#http://scikit-learn.org/stable/modules/generated/sklearn.metrics.silhouette_score.html"
   ]
  },
  {
   "cell_type": "code",
   "execution_count": 68,
   "metadata": {},
   "outputs": [],
   "source": [
    "import numpy as np\n",
    "import pandas as pd\n",
    "import matplotlib.pyplot as plt\n",
    "from sklearn import datasets"
   ]
  },
  {
   "cell_type": "code",
   "execution_count": 71,
   "metadata": {},
   "outputs": [],
   "source": [
    "from sklearn.cluster import KMeans\n",
    "from sklearn.metrics import silhouette_score, silhouette_samples"
   ]
  },
  {
   "cell_type": "code",
   "execution_count": 72,
   "metadata": {},
   "outputs": [
    {
     "data": {
      "text/html": [
       "<div>\n",
       "<style scoped>\n",
       "    .dataframe tbody tr th:only-of-type {\n",
       "        vertical-align: middle;\n",
       "    }\n",
       "\n",
       "    .dataframe tbody tr th {\n",
       "        vertical-align: top;\n",
       "    }\n",
       "\n",
       "    .dataframe thead th {\n",
       "        text-align: right;\n",
       "    }\n",
       "</style>\n",
       "<table border=\"1\" class=\"dataframe\">\n",
       "  <thead>\n",
       "    <tr style=\"text-align: right;\">\n",
       "      <th></th>\n",
       "      <th>sepal length (cm)</th>\n",
       "      <th>sepal width (cm)</th>\n",
       "      <th>petal length (cm)</th>\n",
       "      <th>petal width (cm)</th>\n",
       "      <th>target</th>\n",
       "      <th>species</th>\n",
       "    </tr>\n",
       "  </thead>\n",
       "  <tbody>\n",
       "    <tr>\n",
       "      <th>0</th>\n",
       "      <td>5.1</td>\n",
       "      <td>3.5</td>\n",
       "      <td>1.4</td>\n",
       "      <td>0.2</td>\n",
       "      <td>0</td>\n",
       "      <td>setosa</td>\n",
       "    </tr>\n",
       "    <tr>\n",
       "      <th>1</th>\n",
       "      <td>4.9</td>\n",
       "      <td>3.0</td>\n",
       "      <td>1.4</td>\n",
       "      <td>0.2</td>\n",
       "      <td>0</td>\n",
       "      <td>setosa</td>\n",
       "    </tr>\n",
       "    <tr>\n",
       "      <th>2</th>\n",
       "      <td>4.7</td>\n",
       "      <td>3.2</td>\n",
       "      <td>1.3</td>\n",
       "      <td>0.2</td>\n",
       "      <td>0</td>\n",
       "      <td>setosa</td>\n",
       "    </tr>\n",
       "    <tr>\n",
       "      <th>3</th>\n",
       "      <td>4.6</td>\n",
       "      <td>3.1</td>\n",
       "      <td>1.5</td>\n",
       "      <td>0.2</td>\n",
       "      <td>0</td>\n",
       "      <td>setosa</td>\n",
       "    </tr>\n",
       "    <tr>\n",
       "      <th>4</th>\n",
       "      <td>5.0</td>\n",
       "      <td>3.6</td>\n",
       "      <td>1.4</td>\n",
       "      <td>0.2</td>\n",
       "      <td>0</td>\n",
       "      <td>setosa</td>\n",
       "    </tr>\n",
       "  </tbody>\n",
       "</table>\n",
       "</div>"
      ],
      "text/plain": [
       "   sepal length (cm)  sepal width (cm)  petal length (cm)  petal width (cm)  \\\n",
       "0                5.1               3.5                1.4               0.2   \n",
       "1                4.9               3.0                1.4               0.2   \n",
       "2                4.7               3.2                1.3               0.2   \n",
       "3                4.6               3.1                1.5               0.2   \n",
       "4                5.0               3.6                1.4               0.2   \n",
       "\n",
       "   target species  \n",
       "0       0  setosa  \n",
       "1       0  setosa  \n",
       "2       0  setosa  \n",
       "3       0  setosa  \n",
       "4       0  setosa  "
      ]
     },
     "execution_count": 72,
     "metadata": {},
     "output_type": "execute_result"
    }
   ],
   "source": [
    "iris_aux = datasets.load_iris()\n",
    "iris = pd.DataFrame(iris_aux.data, columns=iris_aux.feature_names)\n",
    "iris['target'] = pd.Series(iris_aux.target)\n",
    "iris['species'] = pd.Categorical.from_codes(iris_aux.target, iris_aux.target_names)\n",
    "iris.head()"
   ]
  },
  {
   "cell_type": "code",
   "execution_count": 76,
   "metadata": {},
   "outputs": [
    {
     "data": {
      "text/plain": [
       "KMeans(algorithm='auto', copy_x=True, init='random', max_iter=300,\n",
       "    n_clusters=3, n_init=10, n_jobs=1, precompute_distances='auto',\n",
       "    random_state=None, tol=0.0001, verbose=0)"
      ]
     },
     "execution_count": 76,
     "metadata": {},
     "output_type": "execute_result"
    }
   ],
   "source": [
    " kmeans = KMeans(n_clusters=3, init='random', n_init=10, max_iter=300, tol=0.0001, precompute_distances='auto', \n",
    "          verbose=0, random_state=None, copy_x=True, n_jobs=1, algorithm='auto')\n",
    "#nao precisa da variavel resposta em kmeans\n",
    "X = iris.iloc[:,:4]\n",
    "kmeans.fit(X)"
   ]
  },
  {
   "cell_type": "markdown",
   "metadata": {},
   "source": [
    "## centroides"
   ]
  },
  {
   "cell_type": "code",
   "execution_count": 77,
   "metadata": {},
   "outputs": [
    {
     "data": {
      "text/plain": [
       "array([[5.006     , 3.418     , 1.464     , 0.244     ],\n",
       "       [6.85      , 3.07368421, 5.74210526, 2.07105263],\n",
       "       [5.9016129 , 2.7483871 , 4.39354839, 1.43387097]])"
      ]
     },
     "execution_count": 77,
     "metadata": {},
     "output_type": "execute_result"
    }
   ],
   "source": [
    "kmeans.cluster_centers_"
   ]
  },
  {
   "cell_type": "code",
   "execution_count": 78,
   "metadata": {},
   "outputs": [
    {
     "data": {
      "text/plain": [
       "array([[3.41925061, 0.14694217, 5.0595416 ],\n",
       "       [3.39857426, 0.43816892, 5.11494335],\n",
       "       [3.56935666, 0.41230086, 5.27935534],\n",
       "       [3.42240962, 0.51883716, 5.15358977],\n",
       "       [3.46726403, 0.19796969, 5.10433388],\n",
       "       [3.14673162, 0.68380699, 4.68148797],\n",
       "       [3.51650264, 0.41520116, 5.21147652],\n",
       "       [3.33654987, 0.0599333 , 5.00252706],\n",
       "       [3.57233779, 0.80099438, 5.32798107],\n",
       "       [3.3583767 , 0.36659514, 5.06790865],\n",
       "       [3.32449131, 0.48784424, 4.89806763],\n",
       "       [3.31126872, 0.25138019, 4.9966845 ],\n",
       "       [3.46661272, 0.49192682, 5.19103612],\n",
       "       [3.90578362, 0.90906105, 5.65173594],\n",
       "       [3.646649  , 1.02019214, 5.10804455],\n",
       "       [3.49427881, 1.21309192, 4.88564095],\n",
       "       [3.495248  , 0.66241377, 5.03090587],\n",
       "       [3.38444981, 0.1509702 , 5.02342022],\n",
       "       [3.11245944, 0.82848778, 4.61792995],\n",
       "       [3.37738931, 0.39898872, 4.97213426],\n",
       "       [3.07471224, 0.46172719, 4.6955761 ],\n",
       "       [3.31506588, 0.33762701, 4.9236821 ],\n",
       "       [3.93167253, 0.64435394, 5.59713396],\n",
       "       [3.01233762, 0.37946278, 4.68193765],\n",
       "       [3.06241269, 0.4845534 , 4.75095704],\n",
       "       [3.19414543, 0.44180539, 4.90772894],\n",
       "       [3.17967089, 0.20782685, 4.84545508],\n",
       "       [3.30941724, 0.21815591, 4.93969029],\n",
       "       [3.37648183, 0.2097427 , 5.01833618],\n",
       "       [3.31272968, 0.40198507, 5.02954567],\n",
       "       [3.26550651, 0.40495926, 4.98608729],\n",
       "       [3.18083736, 0.42566654, 4.79550372],\n",
       "       [3.53142353, 0.72442529, 5.06520776],\n",
       "       [3.57102821, 0.9282198 , 5.04438334],\n",
       "       [3.3583767 , 0.36659514, 5.06790865],\n",
       "       [3.56904033, 0.34524194, 5.25071556],\n",
       "       [3.43783276, 0.5287646 , 5.02368214],\n",
       "       [3.3583767 , 0.36659514, 5.06790865],\n",
       "       [3.66205264, 0.75550778, 5.40750095],\n",
       "       [3.31092773, 0.11131936, 4.9664149 ],\n",
       "       [3.49764675, 0.19181241, 5.14520862],\n",
       "       [3.60850034, 1.23935144, 5.38423754],\n",
       "       [3.68120561, 0.66602703, 5.40847417],\n",
       "       [3.14278239, 0.38986151, 4.78803478],\n",
       "       [3.00585191, 0.60761172, 4.59828494],\n",
       "       [3.39468045, 0.47370033, 5.11844067],\n",
       "       [3.32788568, 0.41855943, 4.92421655],\n",
       "       [3.51879523, 0.4673243 , 5.23766854],\n",
       "       [3.34104251, 0.41132955, 4.92859681],\n",
       "       [3.40601705, 0.14139307, 5.08216833],\n",
       "       [1.22697525, 3.97889331, 1.25489071],\n",
       "       [0.684141  , 3.57569462, 1.44477759],\n",
       "       [1.17527644, 4.13182671, 1.01903626],\n",
       "       [0.73153652, 3.00672446, 2.45978458],\n",
       "       [0.63853451, 3.7451291 , 1.3520017 ],\n",
       "       [0.26937898, 3.34604124, 1.88009327],\n",
       "       [0.76452634, 3.74149596, 1.28902785],\n",
       "       [1.58388575, 2.233829  , 3.37155487],\n",
       "       [0.75582717, 3.70928457, 1.41123804],\n",
       "       [0.85984838, 2.79706847, 2.58955659],\n",
       "       [1.53611907, 2.5937602 , 3.27864111],\n",
       "       [0.32426175, 3.16815277, 1.90055758],\n",
       "       [0.80841374, 3.07805003, 2.38073698],\n",
       "       [0.39674141, 3.64323922, 1.45909603],\n",
       "       [0.87269542, 2.50973943, 2.60303733],\n",
       "       [0.87306498, 3.59544045, 1.50822767],\n",
       "       [0.41229163, 3.36487622, 1.85387593],\n",
       "       [0.53579956, 2.9438057 , 2.25517257],\n",
       "       [0.6367639 , 3.70189033, 1.74778451],\n",
       "       [0.71254917, 2.80399572, 2.49557781],\n",
       "       [0.7093731 , 3.79431048, 1.37094403],\n",
       "       [0.46349013, 3.02079327, 2.06563694],\n",
       "       [0.69373966, 3.98757972, 1.29106776],\n",
       "       [0.43661144, 3.60060995, 1.57547425],\n",
       "       [0.54593856, 3.37188256, 1.70495043],\n",
       "       [0.74313017, 3.55977415, 1.52298639],\n",
       "       [0.98798453, 4.00819061, 1.18965415],\n",
       "       [1.06739835, 4.20328348, 0.84636259],\n",
       "       [0.21993519, 3.47148268, 1.61913335],\n",
       "       [1.0243726 , 2.42231129, 2.77868071],\n",
       "       [0.86396528, 2.73312861, 2.6440625 ],\n",
       "       [0.97566381, 2.61755458, 2.75566654],\n",
       "       [0.55763082, 2.82736485, 2.32254696],\n",
       "       [0.73395781, 4.06974102, 1.22324554],\n",
       "       [0.57500396, 3.33538484, 1.9942056 ],\n",
       "       [0.68790275, 3.47050313, 1.61049622],\n",
       "       [0.92700552, 3.87556344, 1.19803047],\n",
       "       [0.61459444, 3.55803204, 1.81572464],\n",
       "       [0.50830256, 2.93107352, 2.20430516],\n",
       "       [0.6291191 , 2.9382294 , 2.40438484],\n",
       "       [0.48790256, 3.23221163, 2.14635877],\n",
       "       [0.38266958, 3.54152397, 1.52402278],\n",
       "       [0.49185351, 2.94020271, 2.26286106],\n",
       "       [1.5485635 , 2.27868208, 3.33648305],\n",
       "       [0.3856087 , 3.07720523, 2.16211718],\n",
       "       [0.44284695, 3.00931753, 2.11299567],\n",
       "       [0.3449879 , 3.05790647, 2.07973003],\n",
       "       [0.37241653, 3.29423618, 1.76829182],\n",
       "       [1.66064034, 1.98584793, 3.44291999],\n",
       "       [0.38393196, 2.98784069, 2.16527941],\n",
       "       [2.0445799 , 5.23002792, 0.77731871],\n",
       "       [0.85382472, 4.13627755, 1.29757391],\n",
       "       [2.05245342, 5.2614059 , 0.30610139],\n",
       "       [1.33089245, 4.63361544, 0.65293923],\n",
       "       [1.72813078, 5.00335807, 0.38458885],\n",
       "       [2.87401886, 6.06026336, 1.14225684],\n",
       "       [1.07101875, 3.49158875, 2.4108337 ],\n",
       "       [2.39730707, 5.59810611, 0.78573677],\n",
       "       [1.67668563, 4.99343489, 0.65454939],\n",
       "       [2.54158648, 5.60613878, 0.8435596 ],\n",
       "       [1.17541367, 4.31086905, 0.74552218],\n",
       "       [1.13563278, 4.46273369, 0.75289837],\n",
       "       [1.59322675, 4.80907392, 0.25958095],\n",
       "       [0.88917352, 4.11232197, 1.48572618],\n",
       "       [1.20227628, 4.34524936, 1.30303821],\n",
       "       [1.42273608, 4.57523682, 0.68288333],\n",
       "       [1.33403966, 4.5953446 , 0.50991553],\n",
       "       [3.20105585, 6.21652572, 1.47791217],\n",
       "       [3.20759942, 6.4578628 , 1.52971038],\n",
       "       [0.82617494, 4.0684631 , 1.53708992],\n",
       "       [1.91251832, 5.07992047, 0.26952816],\n",
       "       [0.81891975, 3.95277017, 1.5334904 ],\n",
       "       [2.9794431 , 6.17566126, 1.31149299],\n",
       "       [0.74269596, 4.05181342, 1.10668455],\n",
       "       [1.75847731, 4.92666134, 0.27627819],\n",
       "       [2.14580999, 5.27802918, 0.52766931],\n",
       "       [0.62526165, 3.91887637, 1.20765678],\n",
       "       [0.70228926, 3.94953061, 1.16212743],\n",
       "       [1.4663925 , 4.78292714, 0.54629196],\n",
       "       [1.93773659, 5.0624097 , 0.59428255],\n",
       "       [2.31885342, 5.50890116, 0.7312665 ],\n",
       "       [3.07340053, 5.99739877, 1.43802246],\n",
       "       [1.51444141, 4.82261257, 0.5605572 ],\n",
       "       [0.81536685, 4.10541009, 1.05631592],\n",
       "       [1.23209127, 4.50652771, 1.12133058],\n",
       "       [2.6381171 , 5.75777665, 0.95311851],\n",
       "       [1.72401927, 4.84041238, 0.73306362],\n",
       "       [1.31541133, 4.55574275, 0.57903109],\n",
       "       [0.61011676, 3.83572575, 1.29960041],\n",
       "       [1.60532899, 4.75659458, 0.34794609],\n",
       "       [1.77481954, 4.97248348, 0.3893492 ],\n",
       "       [1.53937059, 4.59738969, 0.68403844],\n",
       "       [0.85382472, 4.13627755, 1.29757391],\n",
       "       [2.00764279, 5.21259935, 0.30952112],\n",
       "       [1.94554509, 5.09085376, 0.50939919],\n",
       "       [1.44957743, 4.60751473, 0.61173881],\n",
       "       [0.89747884, 4.21459274, 1.10072376],\n",
       "       [1.17993324, 4.40998776, 0.65334214],\n",
       "       [1.50889317, 4.59839015, 0.83572418],\n",
       "       [0.83452741, 4.07622276, 1.1805499 ]])"
      ]
     },
     "execution_count": 78,
     "metadata": {},
     "output_type": "execute_result"
    }
   ],
   "source": [
    "#tabela de distancias\n",
    "distance = kmeans.fit_transform(X)\n",
    "distance"
   ]
  },
  {
   "cell_type": "code",
   "execution_count": 79,
   "metadata": {},
   "outputs": [
    {
     "data": {
      "text/plain": [
       "array([1, 1, 1, 1, 1, 1, 1, 1, 1, 1, 1, 1, 1, 1, 1, 1, 1, 1, 1, 1, 1, 1,\n",
       "       1, 1, 1, 1, 1, 1, 1, 1, 1, 1, 1, 1, 1, 1, 1, 1, 1, 1, 1, 1, 1, 1,\n",
       "       1, 1, 1, 1, 1, 1, 0, 0, 2, 0, 0, 0, 0, 0, 0, 0, 0, 0, 0, 0, 0, 0,\n",
       "       0, 0, 0, 0, 0, 0, 0, 0, 0, 0, 0, 2, 0, 0, 0, 0, 0, 0, 0, 0, 0, 0,\n",
       "       0, 0, 0, 0, 0, 0, 0, 0, 0, 0, 0, 0, 2, 0, 2, 2, 2, 2, 0, 2, 2, 2,\n",
       "       2, 2, 2, 0, 0, 2, 2, 2, 2, 0, 2, 0, 2, 0, 2, 2, 0, 0, 2, 2, 2, 2,\n",
       "       2, 0, 2, 2, 2, 2, 0, 2, 2, 2, 0, 2, 2, 2, 0, 2, 2, 0])"
      ]
     },
     "execution_count": 79,
     "metadata": {},
     "output_type": "execute_result"
    }
   ],
   "source": [
    "#variavel resposta atribuida\n",
    "labels = kmeans.labels_\n",
    "labels"
   ]
  },
  {
   "cell_type": "markdown",
   "metadata": {},
   "source": [
    "## fixando centroides iniciais"
   ]
  },
  {
   "cell_type": "code",
   "execution_count": 80,
   "metadata": {},
   "outputs": [
    {
     "data": {
      "text/plain": [
       "KMeans(algorithm='auto', copy_x=True,\n",
       "    init=array([[5.006  , 3.418  , 1.464  , 0.244  ],\n",
       "       [6.85   , 3.07368, 5.74211, 2.07105],\n",
       "       [5.90161, 2.74839, 4.39355, 1.43387]]),\n",
       "    max_iter=300, n_clusters=3, n_init=1, n_jobs=1,\n",
       "    precompute_distances='auto', random_state=None, tol=0.0001, verbose=0)"
      ]
     },
     "execution_count": 80,
     "metadata": {},
     "output_type": "execute_result"
    }
   ],
   "source": [
    " kmeans2 = KMeans(n_clusters=3, init= np.array([[5.006     , 3.418     , 1.464     , 0.244     ],\n",
    "       [6.85      , 3.07368421, 5.74210526, 2.07105263],\n",
    "       [5.9016129 , 2.7483871 , 4.39354839, 1.43387097]]), n_init=1, max_iter=300, tol=0.0001, precompute_distances='auto', \n",
    "          verbose=0, random_state=None, copy_x=True, n_jobs=1, algorithm='auto')\n",
    "#nao precisa da variavel resposta em kmeans\n",
    "kmeans2.fit(X)"
   ]
  },
  {
   "cell_type": "markdown",
   "metadata": {},
   "source": [
    "# gráfico do cotovelo: achar k"
   ]
  },
  {
   "cell_type": "code",
   "execution_count": 85,
   "metadata": {},
   "outputs": [
    {
     "data": {
      "image/png": "[encoded data removed]",
      "text/plain": [
       "<Figure size 432x288 with 1 Axes>"
      ]
     },
     "metadata": {},
     "output_type": "display_data"
    }
   ],
   "source": [
    "#vetor com a soma das distâncias intra-cluster\n",
    "wcss = []\n",
    "\n",
    "for i in range(2, 11):\n",
    "    #kmeans = KMeans(n_clusters = i, init = 'k-means++', max_iter = 300, n_init = 10, random_state = 0)\n",
    "    #init = 'k-means++' : selects initial cluster centers for k-mean\n",
    "    #clustering in a smart way to speed up convergence.\n",
    "    \n",
    "    #init = 'random': choose k observations (rows) at random from data for\n",
    "    #the initial centroids\n",
    "       \n",
    "    kmeans3 = KMeans(n_clusters=i, init='k-means++', n_init=10, max_iter=300, tol=0.0001, precompute_distances='auto', \n",
    "          verbose=0, random_state=None, copy_x=True, n_jobs=1, algorithm='auto')\n",
    "    kmeans3.fit(X)\n",
    "    wcss.append(kmeans3.inertia_)\n",
    "    \n",
    "#Plotting the results onto a line graph, allowing us to observe 'The elbow'\n",
    "plt.plot(range(2, 11), wcss)\n",
    "plt.title('The elbow method')\n",
    "plt.xlabel('Number of clusters')\n",
    "plt.ylabel('WCSS') #within cluster sum of squares\n",
    "plt.show()\n",
    "\n",
    " #inertia_ que corresponde ao somatório dos erros quadráticos das instâncias de cada cluster."
   ]
  },
  {
   "cell_type": "code",
   "execution_count": 86,
   "metadata": {},
   "outputs": [
    {
     "data": {
      "text/plain": [
       "array([1, 2, 0])"
      ]
     },
     "execution_count": 86,
     "metadata": {},
     "output_type": "execute_result"
    }
   ],
   "source": [
    "#classificar novos dados nos clusters\n",
    "data = [\n",
    "        [ 4.12, 3.4, 1.6, 0.7],\n",
    "        [ 5.2, 5.8, 5.2, 6.7],\n",
    "        [ 3.1, 3.5, 3.3, 3.0]\n",
    "    ]\n",
    "kmeans.predict(data)"
   ]
  },
  {
   "cell_type": "code",
   "execution_count": 103,
   "metadata": {},
   "outputs": [
    {
     "data": {
      "image/png": "[encoded data removed]",
      "text/plain": [
       "<Figure size 432x288 with 1 Axes>"
      ]
     },
     "metadata": {},
     "output_type": "display_data"
    }
   ],
   "source": [
    "#X = iris.iloc[:,:4]\n",
    "plt.scatter(X.iloc[:, 0], X.iloc[:,1], s = 10, c = kmeans.labels_, label = '')\n",
    "plt.scatter(kmeans.cluster_centers_[:, 0], kmeans.cluster_centers_[:, 1], s = 30, c = 'red',label = 'Centroids')\n",
    "plt.title('Iris Clusters and Centroids')\n",
    "plt.xlabel('SepalLength')\n",
    "plt.ylabel('SepalWidth')\n",
    "plt.legend()\n",
    " \n",
    "plt.show()"
   ]
  },
  {
   "cell_type": "markdown",
   "metadata": {},
   "source": [
    "## Silhueta"
   ]
  },
  {
   "cell_type": "code",
   "execution_count": 96,
   "metadata": {},
   "outputs": [
    {
     "ename": "ModuleNotFoundError",
     "evalue": "No module named 'plotly'",
     "output_type": "error",
     "traceback": [
      "\u001b[1;31m---------------------------------------------------------------------------\u001b[0m",
      "\u001b[1;31mModuleNotFoundError\u001b[0m                       Traceback (most recent call last)",
      "\u001b[1;32m<ipython-input-96-474b21d24ef0>\u001b[0m in \u001b[0;36m<module>\u001b[1;34m()\u001b[0m\n\u001b[1;32m----> 1\u001b[1;33m \u001b[1;32mfrom\u001b[0m \u001b[0mplotly\u001b[0m \u001b[1;32mimport\u001b[0m \u001b[0mplotly\u001b[0m \u001b[1;32mas\u001b[0m \u001b[0mpy\u001b[0m\u001b[1;33m\u001b[0m\u001b[0m\n\u001b[0m\u001b[0;32m      2\u001b[0m \u001b[1;32mfrom\u001b[0m \u001b[0mplotly\u001b[0m \u001b[1;32mimport\u001b[0m \u001b[0mgraph_objs\u001b[0m \u001b[1;32mas\u001b[0m \u001b[0mgo\u001b[0m\u001b[1;33m\u001b[0m\u001b[0m\n\u001b[0;32m      3\u001b[0m \u001b[1;32mfrom\u001b[0m \u001b[0mplotly\u001b[0m \u001b[1;32mimport\u001b[0m \u001b[0mtools\u001b[0m\u001b[1;33m\u001b[0m\u001b[0m\n",
      "\u001b[1;31mModuleNotFoundError\u001b[0m: No module named 'plotly'"
     ]
    }
   ],
   "source": [
    "from plotly import plotly as py\n",
    "from plotly import graph_objs as go\n",
    "from plotly import tools"
   ]
  },
  {
   "cell_type": "code",
   "execution_count": 99,
   "metadata": {},
   "outputs": [],
   "source": [
    "from __future__ import print_function\n",
    "\n",
    "from sklearn.datasets import make_blobs\n",
    "from sklearn.cluster import KMeans\n",
    "from sklearn.metrics import silhouette_samples, silhouette_score\n",
    "\n",
    "import matplotlib.pyplot as plt\n",
    "import matplotlib.cm as cm\n",
    "import numpy as np"
   ]
  },
  {
   "cell_type": "code",
   "execution_count": 119,
   "metadata": {},
   "outputs": [
    {
     "name": "stdout",
     "output_type": "stream",
     "text": [
      "Automatically created module for IPython interactive environment\n",
      "For n_clusters = 2 The average silhouette_score is : 0.6808136202713507\n",
      "For n_clusters = 3 The average silhouette_score is : 0.5525919445213676\n",
      "For n_clusters = 4 The average silhouette_score is : 0.49782569007544936\n",
      "For n_clusters = 5 The average silhouette_score is : 0.48851755085386317\n",
      "For n_clusters = 6 The average silhouette_score is : 0.37121805025641585\n"
     ]
    },
    {
     "data": {
      "image/png": "[encoded data removed]",
      "text/plain": [
       "<Figure size 1296x504 with 2 Axes>"
      ]
     },
     "metadata": {},
     "output_type": "display_data"
    },
    {
     "data": {
      "image/png": "[encoded data removed]",
      "text/plain": [
       "<Figure size 1296x504 with 2 Axes>"
      ]
     },
     "metadata": {},
     "output_type": "display_data"
    },
    {
     "data": {
      "image/png": "[encoded data removed]",
      "text/plain": [
       "<Figure size 1296x504 with 2 Axes>"
      ]
     },
     "metadata": {},
     "output_type": "display_data"
    },
    {
     "data": {
      "image/png": "[encoded data removed]",
      "text/plain": [
       "<Figure size 1296x504 with 2 Axes>"
      ]
     },
     "metadata": {},
     "output_type": "display_data"
    },
    {
     "data": {
      "image/png": "[encoded data removed]",
      "text/plain": [
       "<Figure size 1296x504 with 2 Axes>"
      ]
     },
     "metadata": {},
     "output_type": "display_data"
    }
   ],
   "source": [
    "print(__doc__)\n",
    "\n",
    "range_n_clusters = [2, 3, 4, 5, 6]\n",
    "\n",
    "for n_clusters in range_n_clusters:\n",
    "    # Create a subplot with 1 row and 2 columns\n",
    "    fig, (ax1, ax2) = plt.subplots(1, 2)\n",
    "    fig.set_size_inches(18, 7)\n",
    "\n",
    "    # The 1st subplot is the silhouette plot\n",
    "    # The silhouette coefficient can range from -1, 1 but in this example all\n",
    "    # lie within [-0.1, 1]\n",
    "    ax1.set_xlim([-1, 1])\n",
    "    # The (n_clusters+1)*10 is for inserting blank space between silhouette\n",
    "    # plots of individual clusters, to demarcate them clearly.\n",
    "    ax1.set_ylim([0, len(X) + (n_clusters + 1) * 10])\n",
    "\n",
    "    # Initialize the clusterer with n_clusters value and a random generator\n",
    "    # seed of 10 for reproducibility.\n",
    "    ##clusterer = KMeans(n_clusters=n_clusters, random_state=10)\n",
    "    clusterer = KMeans(n_clusters=n_clusters, init='k-means++', n_init=10, max_iter=300, \n",
    "                       tol=0.0001, precompute_distances='auto', \n",
    "          verbose=0, random_state=10, copy_x=True, n_jobs=1, algorithm='auto')\n",
    "    cluster_labels = clusterer.fit_predict(X)\n",
    "\n",
    "    # The silhouette_score gives the average value for all the samples.\n",
    "    # This gives a perspective into the density and separation of the formed\n",
    "    # clusters\n",
    "    silhouette_avg = silhouette_score(X, cluster_labels)\n",
    "    print(\"For n_clusters =\", n_clusters,\"The average silhouette_score is :\", silhouette_avg)\n",
    "    \n",
    "    # Compute the silhouette scores for each sample\n",
    "    sample_silhouette_values = silhouette_samples(X, cluster_labels)\n",
    "\n",
    "    y_lower = 10\n",
    "    for i in range(n_clusters):\n",
    "        # Aggregate the silhouette scores for samples belonging to\n",
    "        # cluster i, and sort them\n",
    "        ith_cluster_silhouette_values = \\sample_silhouette_values[cluster_labels == i]\n",
    "\n",
    "        ith_cluster_silhouette_values.sort()\n",
    "\n",
    "        size_cluster_i = ith_cluster_silhouette_values.shape[0]\n",
    "        y_upper = y_lower + size_cluster_i\n",
    "\n",
    "        color = cm.nipy_spectral(float(i) / n_clusters)\n",
    "        ax1.fill_betweenx(np.arange(y_lower, y_upper),\n",
    "                          0, ith_cluster_silhouette_values,\n",
    "                          facecolor=color, edgecolor=color, alpha=0.7)\n",
    "\n",
    "        # Label the silhouette plots with their cluster numbers at the middle\n",
    "        ax1.text(-0.05, y_lower + 0.5 * size_cluster_i, str(i))\n",
    "\n",
    "        # Compute the new y_lower for next plot\n",
    "        y_lower = y_upper + 10  # 10 for the 0 samples\n",
    "\n",
    "    ax1.set_title(\"The silhouette plot for the various clusters.\")\n",
    "    ax1.set_xlabel(\"The silhouette coefficient values\")\n",
    "    ax1.set_ylabel(\"Cluster label\")\n",
    "\n",
    "    # The vertical line for average silhouette score of all the values\n",
    "    ax1.axvline(x=silhouette_avg, color=\"red\", linestyle=\"--\")\n",
    "\n",
    "    ax1.set_yticks([])  # Clear the yaxis labels / ticks\n",
    "    ax1.set_xticks([-0.1, 0, 0.2, 0.4, 0.6, 0.8, 1])\n",
    "\n",
    "    # 2nd Plot showing the actual clusters formed\n",
    "    colors = cm.nipy_spectral(cluster_labels.astype(float) / n_clusters)\n",
    "    ax2.scatter(X.iloc[:, 0], X.iloc[:, 1], marker='.', s=30, lw=0, alpha=0.7,\n",
    "                c=colors, edgecolor='k')\n",
    "\n",
    "    # Labeling the clusters\n",
    "    centers = clusterer.cluster_centers_\n",
    "    # Draw white circles at cluster centers\n",
    "    ax2.scatter(centers[:, 0], centers[:, 1], marker='o',\n",
    "                c=\"white\", alpha=1, s=200, edgecolor='k')\n",
    "\n",
    "    for i, c in enumerate(centers):\n",
    "        ax2.scatter(c[0], c[1], marker='$%d$' % i, alpha=1,\n",
    "                    s=50, edgecolor='k')\n",
    "\n",
    "    ax2.set_title(\"The visualization of the clustered data.\")\n",
    "    ax2.set_xlabel(\"Feature space for the 1st feature\")\n",
    "    ax2.set_ylabel(\"Feature space for the 2nd feature\")\n",
    "\n",
    "    plt.suptitle((\"Silhouette analysis for KMeans clustering on sample data \"\n",
    "                  \"with n_clusters = %d\" % n_clusters),\n",
    "                 fontsize=14, fontweight='bold')\n",
    "\n",
    "    plt.show()\n",
    "    "
   ]
  },
  {
   "cell_type": "code",
   "execution_count": 114,
   "metadata": {},
   "outputs": [
    {
     "ename": "ValueError",
     "evalue": "Number of labels is 1. Valid values are 2 to n_samples - 1 (inclusive)",
     "output_type": "error",
     "traceback": [
      "\u001b[1;31m---------------------------------------------------------------------------\u001b[0m",
      "\u001b[1;31mValueError\u001b[0m                                Traceback (most recent call last)",
      "\u001b[1;32m<ipython-input-114-784ed5038f63>\u001b[0m in \u001b[0;36m<module>\u001b[1;34m()\u001b[0m\n\u001b[0;32m     20\u001b[0m \u001b[1;31m# This gives a perspective into the density and separation of the formed\u001b[0m\u001b[1;33m\u001b[0m\u001b[1;33m\u001b[0m\u001b[0m\n\u001b[0;32m     21\u001b[0m \u001b[1;31m# clusters\u001b[0m\u001b[1;33m\u001b[0m\u001b[1;33m\u001b[0m\u001b[0m\n\u001b[1;32m---> 22\u001b[1;33m \u001b[0msilhouette_avg\u001b[0m \u001b[1;33m=\u001b[0m \u001b[0msilhouette_score\u001b[0m\u001b[1;33m(\u001b[0m\u001b[0mX\u001b[0m\u001b[1;33m,\u001b[0m \u001b[0mcluster_labels\u001b[0m\u001b[1;33m)\u001b[0m\u001b[1;33m\u001b[0m\u001b[0m\n\u001b[0m\u001b[0;32m     23\u001b[0m print(\"For n_clusters =\", n_clusters,\n\u001b[0;32m     24\u001b[0m           \"The average silhouette_score is :\", silhouette_avg)\n",
      "\u001b[1;32m~\\Anaconda3\\lib\\site-packages\\sklearn\\metrics\\cluster\\unsupervised.py\u001b[0m in \u001b[0;36msilhouette_score\u001b[1;34m(X, labels, metric, sample_size, random_state, **kwds)\u001b[0m\n\u001b[0;32m     99\u001b[0m         \u001b[1;32melse\u001b[0m\u001b[1;33m:\u001b[0m\u001b[1;33m\u001b[0m\u001b[0m\n\u001b[0;32m    100\u001b[0m             \u001b[0mX\u001b[0m\u001b[1;33m,\u001b[0m \u001b[0mlabels\u001b[0m \u001b[1;33m=\u001b[0m \u001b[0mX\u001b[0m\u001b[1;33m[\u001b[0m\u001b[0mindices\u001b[0m\u001b[1;33m]\u001b[0m\u001b[1;33m,\u001b[0m \u001b[0mlabels\u001b[0m\u001b[1;33m[\u001b[0m\u001b[0mindices\u001b[0m\u001b[1;33m]\u001b[0m\u001b[1;33m\u001b[0m\u001b[0m\n\u001b[1;32m--> 101\u001b[1;33m     \u001b[1;32mreturn\u001b[0m \u001b[0mnp\u001b[0m\u001b[1;33m.\u001b[0m\u001b[0mmean\u001b[0m\u001b[1;33m(\u001b[0m\u001b[0msilhouette_samples\u001b[0m\u001b[1;33m(\u001b[0m\u001b[0mX\u001b[0m\u001b[1;33m,\u001b[0m \u001b[0mlabels\u001b[0m\u001b[1;33m,\u001b[0m \u001b[0mmetric\u001b[0m\u001b[1;33m=\u001b[0m\u001b[0mmetric\u001b[0m\u001b[1;33m,\u001b[0m \u001b[1;33m**\u001b[0m\u001b[0mkwds\u001b[0m\u001b[1;33m)\u001b[0m\u001b[1;33m)\u001b[0m\u001b[1;33m\u001b[0m\u001b[0m\n\u001b[0m\u001b[0;32m    102\u001b[0m \u001b[1;33m\u001b[0m\u001b[0m\n\u001b[0;32m    103\u001b[0m \u001b[1;33m\u001b[0m\u001b[0m\n",
      "\u001b[1;32m~\\Anaconda3\\lib\\site-packages\\sklearn\\metrics\\cluster\\unsupervised.py\u001b[0m in \u001b[0;36msilhouette_samples\u001b[1;34m(X, labels, metric, **kwds)\u001b[0m\n\u001b[0;32m    165\u001b[0m     \u001b[0mle\u001b[0m \u001b[1;33m=\u001b[0m \u001b[0mLabelEncoder\u001b[0m\u001b[1;33m(\u001b[0m\u001b[1;33m)\u001b[0m\u001b[1;33m\u001b[0m\u001b[0m\n\u001b[0;32m    166\u001b[0m     \u001b[0mlabels\u001b[0m \u001b[1;33m=\u001b[0m \u001b[0mle\u001b[0m\u001b[1;33m.\u001b[0m\u001b[0mfit_transform\u001b[0m\u001b[1;33m(\u001b[0m\u001b[0mlabels\u001b[0m\u001b[1;33m)\u001b[0m\u001b[1;33m\u001b[0m\u001b[0m\n\u001b[1;32m--> 167\u001b[1;33m     \u001b[0mcheck_number_of_labels\u001b[0m\u001b[1;33m(\u001b[0m\u001b[0mlen\u001b[0m\u001b[1;33m(\u001b[0m\u001b[0mle\u001b[0m\u001b[1;33m.\u001b[0m\u001b[0mclasses_\u001b[0m\u001b[1;33m)\u001b[0m\u001b[1;33m,\u001b[0m \u001b[0mX\u001b[0m\u001b[1;33m.\u001b[0m\u001b[0mshape\u001b[0m\u001b[1;33m[\u001b[0m\u001b[1;36m0\u001b[0m\u001b[1;33m]\u001b[0m\u001b[1;33m)\u001b[0m\u001b[1;33m\u001b[0m\u001b[0m\n\u001b[0m\u001b[0;32m    168\u001b[0m \u001b[1;33m\u001b[0m\u001b[0m\n\u001b[0;32m    169\u001b[0m     \u001b[0mdistances\u001b[0m \u001b[1;33m=\u001b[0m \u001b[0mpairwise_distances\u001b[0m\u001b[1;33m(\u001b[0m\u001b[0mX\u001b[0m\u001b[1;33m,\u001b[0m \u001b[0mmetric\u001b[0m\u001b[1;33m=\u001b[0m\u001b[0mmetric\u001b[0m\u001b[1;33m,\u001b[0m \u001b[1;33m**\u001b[0m\u001b[0mkwds\u001b[0m\u001b[1;33m)\u001b[0m\u001b[1;33m\u001b[0m\u001b[0m\n",
      "\u001b[1;32m~\\Anaconda3\\lib\\site-packages\\sklearn\\metrics\\cluster\\unsupervised.py\u001b[0m in \u001b[0;36mcheck_number_of_labels\u001b[1;34m(n_labels, n_samples)\u001b[0m\n\u001b[0;32m     17\u001b[0m     \u001b[1;32mif\u001b[0m \u001b[1;32mnot\u001b[0m \u001b[1;36m1\u001b[0m \u001b[1;33m<\u001b[0m \u001b[0mn_labels\u001b[0m \u001b[1;33m<\u001b[0m \u001b[0mn_samples\u001b[0m\u001b[1;33m:\u001b[0m\u001b[1;33m\u001b[0m\u001b[0m\n\u001b[0;32m     18\u001b[0m         raise ValueError(\"Number of labels is %d. Valid values are 2 \"\n\u001b[1;32m---> 19\u001b[1;33m                          \"to n_samples - 1 (inclusive)\" % n_labels)\n\u001b[0m\u001b[0;32m     20\u001b[0m \u001b[1;33m\u001b[0m\u001b[0m\n\u001b[0;32m     21\u001b[0m \u001b[1;33m\u001b[0m\u001b[0m\n",
      "\u001b[1;31mValueError\u001b[0m: Number of labels is 1. Valid values are 2 to n_samples - 1 (inclusive)"
     ]
    },
    {
     "data": {
      "image/png": "[encoded data removed]",
      "text/plain": [
       "<Figure size 432x288 with 2 Axes>"
      ]
     },
     "metadata": {},
     "output_type": "display_data"
    }
   ],
   "source": [
    "\n",
    "n_clusters = 3\n",
    "# Create a subplot with 1 row and 2 columns\n",
    "fig, (ax1, ax2) = plt.subplots(1, 2)\n",
    "# The silhouette coefficient can range from -1, 1 but in this example all\n",
    "# lie within [-0.1, 1]\n",
    "ax1.set_xlim([-0.1, 1])\n",
    "# The (n_clusters+1)*10 is for inserting blank space between silhouette\n",
    "# plots of individual clusters, to demarcate them clearly.\n",
    "ax1.set_ylim([0, len(X) + (n_clusters + 1) * 10])\n",
    "\n",
    "# Initialize the clusterer with n_clusters value and a random generator\n",
    "# seed of 10 for reproducibility.\n",
    "##clusterer = KMeans(n_clusters=n_clusters, random_state=10)\n",
    "clusterer = KMeans(n_clusters=i, init='k-means++', n_init=10, max_iter=300, tol=0.0001, precompute_distances='auto', \n",
    "          verbose=0, random_state=10, copy_x=True, n_jobs=1, algorithm='auto')\n",
    "cluster_labels = clusterer.fit_predict(X)\n",
    "\n",
    "# The silhouette_score gives the average value for all the samples.\n",
    "# This gives a perspective into the density and separation of the formed\n",
    "# clusters\n",
    "silhouette_avg = silhouette_score(X, cluster_labels)\n",
    "print(\"For n_clusters =\", n_clusters,\n",
    "          \"The average silhouette_score is :\", silhouette_avg)\n",
    "\n",
    "    # Compute the silhouette scores for each sample\n",
    "sample_silhouette_values = silhouette_samples(X, cluster_labels)\n",
    "\n",
    "y_lower = 10\n",
    "for i in range(n_clusters):\n",
    "        # Aggregate the silhouette scores for samples belonging to\n",
    "        # cluster i, and sort them\n",
    "    ith_cluster_silhouette_values = \\\n",
    "        sample_silhouette_values[cluster_labels == i]\n",
    "\n",
    "    ith_cluster_silhouette_values.sort()\n",
    "\n",
    "    size_cluster_i = ith_cluster_silhouette_values.shape[0]\n",
    "    \n",
    "    y_upper = y_lower + size_cluster_i\n",
    "\n",
    "    color = cm.nipy_spectral(float(i) / n_clusters)\n",
    "    ax1.fill_betweenx(np.arange(y_lower, y_upper),\n",
    "                         0, ith_cluster_silhouette_values,\n",
    "                         facecolor=color, edgecolor=color, alpha=0.7)\n",
    "\n",
    "        # Label the silhouette plots with their cluster numbers at the middle\n",
    "    ax1.text(-0.05, y_lower + 0.5 * size_cluster_i, str(i))\n",
    "\n",
    "        # Compute the new y_lower for next plot\n",
    "    y_lower = y_upper + 10  # 10 for the 0 samples\n",
    "\n",
    "ax1.set_title(\"The silhouette plot for the various clusters.\")\n",
    "ax1.set_xlabel(\"The silhouette coefficient values\")\n",
    "ax1.set_ylabel(\"Cluster label\")\n",
    "\n",
    "    # The vertical line for average silhouette score of all the values\n",
    "ax1.axvline(x=silhouette_avg, color=\"red\", linestyle=\"--\")\n",
    "\n",
    "ax1.set_yticks([])  # Clear the yaxis labels / ticks\n",
    "ax1.set_xticks([-0.1, 0, 0.2, 0.4, 0.6, 0.8, 1])\n",
    "\n",
    "    # 2nd Plot showing the actual clusters formed\n",
    "colors = cm.nipy_spectral(cluster_labels.astype(float) / n_clusters)\n",
    "ax2.scatter(X.iloc[:, 0], X.iloc[:, 1], marker='.', s=30, lw=0, alpha=0.7,\n",
    "                c=colors, edgecolor='k')\n",
    "\n",
    "    # Labeling the clusters\n",
    "centers = clusterer.cluster_centers_\n",
    "    # Draw white circles at cluster centers\n",
    "ax2.scatter(centers[:, 0], centers[:, 1], marker='o',\n",
    "              c=\"white\", alpha=1, s=200, edgecolor='k')\n",
    "\n",
    "for i, c in enumerate(centers):\n",
    "    ax2.scatter(c[0], c[1], marker='$%d$' % i, alpha=1,\n",
    "                    s=50, edgecolor='k')\n",
    "\n",
    "ax2.set_title(\"The visualization of the clustered data.\")\n",
    "ax2.set_xlabel(\"Feature space for the 1st feature\")\n",
    "ax2.set_ylabel(\"Feature space for the 2nd feature\")\n",
    "\n",
    "plt.suptitle((\"Silhouette analysis for KMeans clustering on sample data \"\n",
    "                  \"with n_clusters = %d\" % n_clusters),\n",
    "                 fontsize=14, fontweight='bold')\n",
    "\n",
    "plt.show()"
   ]
  },
  {
   "cell_type": "code",
   "execution_count": 46,
   "metadata": {},
   "outputs": [
    {
     "data": {
      "text/plain": [
       "array([0, 0, 0, 0, 0, 0, 0, 0, 0, 0, 0, 0, 0, 0, 0, 0, 0, 0, 0, 0, 0, 0,\n",
       "       0, 0, 0, 0, 0, 0, 0, 0, 0, 0, 0, 0, 0, 0, 0, 0, 0, 0, 0, 0, 0, 0,\n",
       "       0, 0, 0, 0, 0, 0, 2, 2, 1, 2, 2, 2, 2, 2, 2, 2, 2, 2, 2, 2, 2, 2,\n",
       "       2, 2, 2, 2, 2, 2, 2, 2, 2, 2, 2, 1, 2, 2, 2, 2, 2, 2, 2, 2, 2, 2,\n",
       "       2, 2, 2, 2, 2, 2, 2, 2, 2, 2, 2, 2, 1, 2, 1, 1, 1, 1, 2, 1, 1, 1,\n",
       "       1, 1, 1, 2, 2, 1, 1, 1, 1, 2, 1, 2, 1, 2, 1, 1, 2, 2, 1, 1, 1, 1,\n",
       "       1, 2, 1, 1, 1, 1, 2, 1, 1, 1, 2, 1, 1, 1, 2, 1, 1, 2])"
      ]
     },
     "execution_count": 46,
     "metadata": {},
     "output_type": "execute_result"
    }
   ],
   "source": [
    "y_kmeans = kmeans.fit_predict(iris.iloc[:,:4])\n",
    "y_kmeans"
   ]
  },
  {
   "cell_type": "code",
   "execution_count": null,
   "metadata": {},
   "outputs": [],
   "source": []
  }
 ],
 "metadata": {
  "kernelspec": {
   "display_name": "Python 3",
   "language": "python",
   "name": "python3"
  },
  "language_info": {
   "codemirror_mode": {
    "name": "ipython",
    "version": 3
   },
   "file_extension": ".py",
   "mimetype": "text/x-python",
   "name": "python",
   "nbconvert_exporter": "python",
   "pygments_lexer": "ipython3",
   "version": "3.6.5"
  }
 },
 "nbformat": 4,
 "nbformat_minor": 2
}
